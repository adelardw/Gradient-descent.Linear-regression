{
  "nbformat": 4,
  "nbformat_minor": 0,
  "metadata": {
    "colab": {
      "provenance": [],
      "authorship_tag": "ABX9TyOTZ9ORPAb9pzUSJH4NDgrx",
      "include_colab_link": true
    },
    "kernelspec": {
      "name": "python3",
      "display_name": "Python 3"
    },
    "language_info": {
      "name": "python"
    }
  },
  "cells": [
    {
      "cell_type": "markdown",
      "metadata": {
        "id": "view-in-github",
        "colab_type": "text"
      },
      "source": [
        "<a href=\"https://colab.research.google.com/github/adelardw/Gradient-descent.Linear-regression/blob/main/ML_GD.ipynb\" target=\"_parent\"><img src=\"https://colab.research.google.com/assets/colab-badge.svg\" alt=\"Open In Colab\"/></a>"
      ]
    },
    {
      "cell_type": "code",
      "execution_count": 219,
      "metadata": {
        "id": "fxtcIqS-17yp"
      },
      "outputs": [],
      "source": [
        "import numpy as np\n",
        "import matplotlib.pyplot as plt\n",
        "import pandas as pd\n",
        "#import sklearn.linear_model\n",
        "import matplotlib.pyplot as plt\n",
        "\n",
        "from sklearn.datasets import make_regression\n",
        "from sklearn.linear_model import LinearRegression\n",
        "from sklearn.model_selection import train_test_split\n",
        "from sklearn.preprocessing import normalize\n",
        "from sklearn.metrics import mean_squared_error as msee\n",
        "\n"
      ]
    },
    {
      "cell_type": "code",
      "source": [
        "\"\"\"\n",
        "This is a numerical algorithm which calculating coeficients in linear regression\n",
        "\"\"\"\n",
        "\n",
        "\n",
        "\"\"\" Define Loss_function\"\"\"\n",
        "\n",
        "def loss(y_true, y_pred):\n",
        "  y_true = np.array(y_true)\n",
        "  y_pred = np.array(y_pred)\n",
        "  return ((y_true - y_pred) ** 2).sum() / len(y_true)\n",
        "\n",
        "\n",
        "def loss_grad(w, x:list, y:list, n_samples: int, m_features: int):\n",
        "\n",
        "  grad = -2*x.T @ (y - (np.dot(x,w)))\n",
        "  return grad\n",
        "\n",
        "\n",
        "def GD(x:list, y:list, lr = 0.001, epochs = 500):\n",
        "  m_features = len(x.T)\n",
        "  n_samples = len(y)\n",
        "  new_x = np.hstack(\n",
        "      (np.ones(n_samples).reshape(-1,1),x)\n",
        "      )\n",
        "  \n",
        "  w = np.zeros(m_features + 1)         \n",
        "  mse_history = [loss(y,(np.dot(w,new_x.T) ))]                     \n",
        "  epoch = 0\n",
        "  while epoch < epochs:\n",
        "    w = w - lr*loss_grad(w, new_x, y, n_samples,m_features)\n",
        "    y_predict = np.dot(w,new_x.T)\n",
        "    mse = loss(y, y_predict)\n",
        "    mse_history.append(mse)\n",
        "    epoch += 1\n",
        "  \n",
        "  return (w[1:],w[0]), mse_history\n",
        "\n",
        "\n",
        "\n",
        "\n"
      ],
      "metadata": {
        "id": "cxGIxrgl2KKN"
      },
      "execution_count": 220,
      "outputs": []
    },
    {
      "cell_type": "code",
      "source": [
        "x1, y1 = make_regression(n_samples=790, n_features=20, noise=20, random_state=44)\n",
        "\n",
        "\n",
        "GD(x1, y1,lr = 0.0001,epochs = 1000)[0]\n",
        "\n"
      ],
      "metadata": {
        "colab": {
          "base_uri": "https://localhost:8080/"
        },
        "id": "sJfaBgtQ3ceq",
        "outputId": "2752447a-9f28-4132-c8c9-100a91e5d00b"
      },
      "execution_count": 221,
      "outputs": [
        {
          "output_type": "execute_result",
          "data": {
            "text/plain": [
              "(array([ 8.30703736e+01, -1.18238862e+00, -1.98454370e-01,  4.83737432e+01,\n",
              "         9.50530743e+01, -6.95049233e-01, -6.60621810e-02,  6.62687293e+01,\n",
              "         9.82957312e+01,  3.60061009e+01,  5.11687625e-01,  5.98670651e-02,\n",
              "         9.91788140e-02,  9.28914935e+01,  4.49866503e+00,  6.79154964e+01,\n",
              "         1.41835238e-01,  9.62219753e+01,  9.00425419e-01,  1.74195034e-01]),\n",
              " 0.03762023922860804)"
            ]
          },
          "metadata": {},
          "execution_count": 221
        }
      ]
    },
    {
      "cell_type": "code",
      "source": [
        "\"\"\" Sklearn LinearModel() \"\"\"\n",
        "linreg = LinearRegression()\n",
        "linreg.fit(x1, y1)\n",
        "linreg.coef_, linreg.intercept_"
      ],
      "metadata": {
        "id": "iR3qxH6unun2"
      },
      "execution_count": null,
      "outputs": []
    },
    {
      "cell_type": "code",
      "source": [
        "\"\"\" Data spliting \"\"\"\n",
        "\n",
        "X_train, X_test, y_train, y_test = train_test_split(x1,y1, test_size = 0.2, random_state = 42)"
      ],
      "metadata": {
        "id": "-CH9-y7CwkIK"
      },
      "execution_count": 223,
      "outputs": []
    },
    {
      "cell_type": "code",
      "source": [
        "\"\"\" MSE plot\"\"\"\n",
        "\n",
        "epoches_test = np.linspace(0,len(GD(X_test,y_test)[1]),len(GD(X_test,y_test)[1]))\n",
        "epoches_train = np.linspace(0,len(GD(X_train,y_train)[1]),len(GD(X_train,y_train)[1]))\n",
        "\n",
        "plt.plot(epoches_test,GD(X_test,y_test)[1], label = 'test')\n",
        "plt.xlabel('epochs')\n",
        "plt.ylabel('MSE')\n",
        "plt.plot(epoches_train,GD(X_train,y_train)[1], label = 'train')\n",
        "plt.legend()\n"
      ],
      "metadata": {
        "colab": {
          "base_uri": "https://localhost:8080/",
          "height": 296
        },
        "id": "M6piw_ifluzX",
        "outputId": "881138d8-f754-4006-e8f5-527bdc38c4ac"
      },
      "execution_count": 224,
      "outputs": [
        {
          "output_type": "execute_result",
          "data": {
            "text/plain": [
              "<matplotlib.legend.Legend at 0x7f0f83c79130>"
            ]
          },
          "metadata": {},
          "execution_count": 224
        },
        {
          "output_type": "display_data",
          "data": {
            "text/plain": [
              "<Figure size 432x288 with 1 Axes>"
            ],
            "image/png": "[encoded data removed]"
          },
          "metadata": {
            "needs_background": "light"
          }
        }
      ]
    },
    {
      "cell_type": "code",
      "source": [
        "# For kaggle datasets\n",
        "# You should downoload kaggle.json from your kaggle account\n",
        "\n",
        "! pip install -q kaggle\n",
        "! mkdir ~/.kaggle\n",
        "! cp kaggle.json ~/.kaggle/\n",
        "! chmod 600 ~/.kaggle/kaggle.json\n",
        "\n",
        "# signature for datasets: ! kaggle datasets download <name-of-dataset>\n",
        "# copy all after https://www.kaggle.com/ "
      ],
      "metadata": {
        "id": "VkUMzRIQcRM2",
        "colab": {
          "base_uri": "https://localhost:8080/"
        },
        "outputId": "937d816c-1c9d-45c9-cfa3-485702d18a9e"
      },
      "execution_count": 225,
      "outputs": [
        {
          "output_type": "stream",
          "name": "stdout",
          "text": [
            "mkdir: cannot create directory ‘/root/.kaggle’: File exists\n"
          ]
        }
      ]
    },
    {
      "cell_type": "code",
      "source": [
        "! kaggle datasets download \"sohier/calcofi\"\n",
        "from  zipfile import ZipFile as zf\n",
        "\n",
        "with zf('/content/calcofi.zip') as myzip:\n",
        "    df_bottle = pd.read_csv(myzip.open('bottle.csv','r'))\n",
        "    df_cast = pd.read_csv(myzip.open('cast.csv','r'))  \n",
        "\n"
      ],
      "metadata": {
        "colab": {
          "base_uri": "https://localhost:8080/"
        },
        "id": "RlPlz-rUkxoG",
        "outputId": "fcc33552-5e4e-437b-fd3b-05dfcb390420"
      },
      "execution_count": 226,
      "outputs": [
        {
          "output_type": "stream",
          "name": "stdout",
          "text": [
            "calcofi.zip: Skipping, found more recently modified local copy (use --force to force download)\n"
          ]
        },
        {
          "output_type": "stream",
          "name": "stderr",
          "text": [
            "/usr/local/lib/python3.8/dist-packages/IPython/core/interactiveshell.py:3326: DtypeWarning: Columns (47,73) have mixed types.Specify dtype option on import or set low_memory=False.\n",
            "  exec(code_obj, self.user_global_ns, self.user_ns)\n",
            "/usr/local/lib/python3.8/dist-packages/IPython/core/interactiveshell.py:3326: DtypeWarning: Columns (40,41,44,45,46,47) have mixed types.Specify dtype option on import or set low_memory=False.\n",
            "  exec(code_obj, self.user_global_ns, self.user_ns)\n"
          ]
        }
      ]
    },
    {
      "cell_type": "code",
      "source": [
        "df_cast.info()"
      ],
      "metadata": {
        "colab": {
          "base_uri": "https://localhost:8080/"
        },
        "id": "c0uBx8BavVzz",
        "outputId": "633c045a-8c6f-4f51-e342-9b6c7660954a"
      },
      "execution_count": 11,
      "outputs": [
        {
          "output_type": "stream",
          "name": "stdout",
          "text": [
            "<class 'pandas.core.frame.DataFrame'>\n",
            "RangeIndex: 34404 entries, 0 to 34403\n",
            "Data columns (total 61 columns):\n",
            " #   Column       Non-Null Count  Dtype  \n",
            "---  ------       --------------  -----  \n",
            " 0   Cst_Cnt      34404 non-null  int64  \n",
            " 1   Cruise_ID    34404 non-null  object \n",
            " 2   Cruise       34404 non-null  int64  \n",
            " 3   Cruz_Sta     34404 non-null  int64  \n",
            " 4   DbSta_ID     34404 non-null  int64  \n",
            " 5   Cast_ID      34404 non-null  object \n",
            " 6   Sta_ID       34404 non-null  object \n",
            " 7   Quarter      34404 non-null  int64  \n",
            " 8   Sta_Code     34404 non-null  object \n",
            " 9   Distance     19714 non-null  float64\n",
            " 10  Date         34404 non-null  object \n",
            " 11  Year         34404 non-null  int64  \n",
            " 12  Month        34404 non-null  int64  \n",
            " 13  Julian_Date  34404 non-null  int64  \n",
            " 14  Julian_Day   34404 non-null  int64  \n",
            " 15  Time         34080 non-null  object \n",
            " 16  Lat_Dec      34404 non-null  float64\n",
            " 17  Lat_Deg      34404 non-null  int64  \n",
            " 18  Lat_Min      34404 non-null  float64\n",
            " 19  Lat_Hem      34404 non-null  object \n",
            " 20  Lon_Dec      34404 non-null  float64\n",
            " 21  Lon_Deg      34404 non-null  int64  \n",
            " 22  Lon_Min      34404 non-null  float64\n",
            " 23  Lon_Hem      34404 non-null  object \n",
            " 24  Rpt_Line     34404 non-null  float64\n",
            " 25  St_Line      34404 non-null  float64\n",
            " 26  Ac_Line      34404 non-null  float64\n",
            " 27  Rpt_Sta      34404 non-null  float64\n",
            " 28  St_Station   34404 non-null  float64\n",
            " 29  Ac_Sta       34404 non-null  float64\n",
            " 30  Bottom_D     32123 non-null  float64\n",
            " 31  Secchi       5263 non-null   float64\n",
            " 32  ForelU       2077 non-null   float64\n",
            " 33  Ship_Name    32714 non-null  object \n",
            " 34  Ship_Code    34404 non-null  object \n",
            " 35  Data_Type    34404 non-null  object \n",
            " 36  Order_Occ    9954 non-null   float64\n",
            " 37  Event_Num    34401 non-null  float64\n",
            " 38  Cruz_Leg     1464 non-null   float64\n",
            " 39  Orig_Sta_ID  34404 non-null  object \n",
            " 40  Data_Or      18275 non-null  object \n",
            " 41  Cruz_Num     34404 non-null  object \n",
            " 42  IntChl       12203 non-null  float64\n",
            " 43  IntC14       2129 non-null   float64\n",
            " 44  Inc_Str      2133 non-null   object \n",
            " 45  Inc_End      2133 non-null   object \n",
            " 46  PST_LAN      2117 non-null   object \n",
            " 47  Civil_T      2116 non-null   object \n",
            " 48  TimeZone     4782 non-null   float64\n",
            " 49  Wave_Dir     12558 non-null  float64\n",
            " 50  Wave_Ht      12098 non-null  float64\n",
            " 51  Wave_Prd     11634 non-null  float64\n",
            " 52  Wind_Dir     32928 non-null  float64\n",
            " 53  Wind_Spd     32725 non-null  float64\n",
            " 54  Barometer    19063 non-null  float64\n",
            " 55  Dry_T        19071 non-null  float64\n",
            " 56  Wet_T        18989 non-null  float64\n",
            " 57  Wea          26807 non-null  float64\n",
            " 58  Cloud_Typ    9920 non-null   float64\n",
            " 59  Cloud_Amt    11882 non-null  float64\n",
            " 60  Visibility   9507 non-null   float64\n",
            "dtypes: float64(32), int64(11), object(18)\n",
            "memory usage: 16.0+ MB\n"
          ]
        }
      ]
    },
    {
      "cell_type": "code",
      "source": [
        "df_bottle.fillna(0).info()"
      ],
      "metadata": {
        "colab": {
          "base_uri": "https://localhost:8080/"
        },
        "id": "pzT1HHYIvYC0",
        "outputId": "98731817-bd84-47c0-dd55-2c241d583cd2"
      },
      "execution_count": 12,
      "outputs": [
        {
          "output_type": "stream",
          "name": "stdout",
          "text": [
            "<class 'pandas.core.frame.DataFrame'>\n",
            "RangeIndex: 864863 entries, 0 to 864862\n",
            "Data columns (total 74 columns):\n",
            " #   Column               Non-Null Count   Dtype  \n",
            "---  ------               --------------   -----  \n",
            " 0   Cst_Cnt              864863 non-null  int64  \n",
            " 1   Btl_Cnt              864863 non-null  int64  \n",
            " 2   Sta_ID               864863 non-null  object \n",
            " 3   Depth_ID             864863 non-null  object \n",
            " 4   Depthm               864863 non-null  int64  \n",
            " 5   T_degC               864863 non-null  float64\n",
            " 6   Salnty               864863 non-null  float64\n",
            " 7   O2ml_L               864863 non-null  float64\n",
            " 8   STheta               864863 non-null  float64\n",
            " 9   O2Sat                864863 non-null  float64\n",
            " 10  Oxy_µmol/Kg          864863 non-null  float64\n",
            " 11  BtlNum               864863 non-null  float64\n",
            " 12  RecInd               864863 non-null  int64  \n",
            " 13  T_prec               864863 non-null  float64\n",
            " 14  T_qual               864863 non-null  float64\n",
            " 15  S_prec               864863 non-null  float64\n",
            " 16  S_qual               864863 non-null  float64\n",
            " 17  P_qual               864863 non-null  float64\n",
            " 18  O_qual               864863 non-null  float64\n",
            " 19  SThtaq               864863 non-null  float64\n",
            " 20  O2Satq               864863 non-null  float64\n",
            " 21  ChlorA               864863 non-null  float64\n",
            " 22  Chlqua               864863 non-null  float64\n",
            " 23  Phaeop               864863 non-null  float64\n",
            " 24  Phaqua               864863 non-null  float64\n",
            " 25  PO4uM                864863 non-null  float64\n",
            " 26  PO4q                 864863 non-null  float64\n",
            " 27  SiO3uM               864863 non-null  float64\n",
            " 28  SiO3qu               864863 non-null  float64\n",
            " 29  NO2uM                864863 non-null  float64\n",
            " 30  NO2q                 864863 non-null  float64\n",
            " 31  NO3uM                864863 non-null  float64\n",
            " 32  NO3q                 864863 non-null  float64\n",
            " 33  NH3uM                864863 non-null  float64\n",
            " 34  NH3q                 864863 non-null  float64\n",
            " 35  C14As1               864863 non-null  float64\n",
            " 36  C14A1p               864863 non-null  float64\n",
            " 37  C14A1q               864863 non-null  float64\n",
            " 38  C14As2               864863 non-null  float64\n",
            " 39  C14A2p               864863 non-null  float64\n",
            " 40  C14A2q               864863 non-null  float64\n",
            " 41  DarkAs               864863 non-null  float64\n",
            " 42  DarkAp               864863 non-null  float64\n",
            " 43  DarkAq               864863 non-null  float64\n",
            " 44  MeanAs               864863 non-null  float64\n",
            " 45  MeanAp               864863 non-null  float64\n",
            " 46  MeanAq               864863 non-null  float64\n",
            " 47  IncTim               864863 non-null  object \n",
            " 48  LightP               864863 non-null  float64\n",
            " 49  R_Depth              864863 non-null  float64\n",
            " 50  R_TEMP               864863 non-null  float64\n",
            " 51  R_POTEMP             864863 non-null  float64\n",
            " 52  R_SALINITY           864863 non-null  float64\n",
            " 53  R_SIGMA              864863 non-null  float64\n",
            " 54  R_SVA                864863 non-null  float64\n",
            " 55  R_DYNHT              864863 non-null  float64\n",
            " 56  R_O2                 864863 non-null  float64\n",
            " 57  R_O2Sat              864863 non-null  float64\n",
            " 58  R_SIO3               864863 non-null  float64\n",
            " 59  R_PO4                864863 non-null  float64\n",
            " 60  R_NO3                864863 non-null  float64\n",
            " 61  R_NO2                864863 non-null  float64\n",
            " 62  R_NH4                864863 non-null  float64\n",
            " 63  R_CHLA               864863 non-null  float64\n",
            " 64  R_PHAEO              864863 non-null  float64\n",
            " 65  R_PRES               864863 non-null  int64  \n",
            " 66  R_SAMP               864863 non-null  float64\n",
            " 67  DIC1                 864863 non-null  float64\n",
            " 68  DIC2                 864863 non-null  float64\n",
            " 69  TA1                  864863 non-null  float64\n",
            " 70  TA2                  864863 non-null  float64\n",
            " 71  pH2                  864863 non-null  float64\n",
            " 72  pH1                  864863 non-null  float64\n",
            " 73  DIC Quality Comment  864863 non-null  object \n",
            "dtypes: float64(65), int64(5), object(4)\n",
            "memory usage: 488.3+ MB\n"
          ]
        }
      ]
    },
    {
      "cell_type": "code",
      "source": [
        "df_cast.head().corr()['Cruz_Sta'].dropna()"
      ],
      "metadata": {
        "colab": {
          "base_uri": "https://localhost:8080/"
        },
        "id": "ebLvHLvAq-3Q",
        "outputId": "6f88af97-68d9-4a15-ffa1-af61d764fb49"
      },
      "execution_count": 13,
      "outputs": [
        {
          "output_type": "execute_result",
          "data": {
            "text/plain": [
              "Cst_Cnt       -0.944844\n",
              "Cruz_Sta       1.000000\n",
              "DbSta_ID       1.000000\n",
              "Julian_Date   -0.872868\n",
              "Julian_Day    -0.872868\n",
              "Lat_Dec        0.983010\n",
              "Lat_Min        0.983010\n",
              "Lon_Dec        0.979138\n",
              "Lon_Deg        0.944844\n",
              "Lon_Min       -0.434047\n",
              "Rpt_Line       1.000000\n",
              "St_Line        1.000000\n",
              "Ac_Line        0.977746\n",
              "Rpt_Sta       -0.980568\n",
              "St_Station    -0.980568\n",
              "Ac_Sta        -0.979544\n",
              "Event_Num     -0.944844\n",
              "Wind_Dir      -0.095054\n",
              "Wind_Spd       0.488400\n",
              "Wea           -0.484724\n",
              "Name: Cruz_Sta, dtype: float64"
            ]
          },
          "metadata": {},
          "execution_count": 13
        }
      ]
    },
    {
      "cell_type": "code",
      "source": [
        "clmns_cast = df_cast.head().corr()['Cruz_Sta'].dropna().index.to_numpy()\n",
        "clmns_cast"
      ],
      "metadata": {
        "colab": {
          "base_uri": "https://localhost:8080/"
        },
        "id": "3CAvV0iIwA6K",
        "outputId": "fa2d9e25-9c21-4099-e494-a19075f1fb26"
      },
      "execution_count": 14,
      "outputs": [
        {
          "output_type": "execute_result",
          "data": {
            "text/plain": [
              "array(['Cst_Cnt', 'Cruz_Sta', 'DbSta_ID', 'Julian_Date', 'Julian_Day',\n",
              "       'Lat_Dec', 'Lat_Min', 'Lon_Dec', 'Lon_Deg', 'Lon_Min', 'Rpt_Line',\n",
              "       'St_Line', 'Ac_Line', 'Rpt_Sta', 'St_Station', 'Ac_Sta',\n",
              "       'Event_Num', 'Wind_Dir', 'Wind_Spd', 'Wea'], dtype=object)"
            ]
          },
          "metadata": {},
          "execution_count": 14
        }
      ]
    },
    {
      "cell_type": "code",
      "source": [
        "df_bottle.head().corr()['Btl_Cnt'].dropna()"
      ],
      "metadata": {
        "colab": {
          "base_uri": "https://localhost:8080/"
        },
        "id": "-FL1V2pdri7v",
        "outputId": "ec6d1e89-6920-427a-8fd3-93dfec31f8c2"
      },
      "execution_count": 90,
      "outputs": [
        {
          "output_type": "execute_result",
          "data": {
            "text/plain": [
              "Btl_Cnt       1.000000\n",
              "Depthm        0.972178\n",
              "T_degC       -0.838742\n",
              "Salnty       -0.897958\n",
              "STheta       -0.654280\n",
              "RecInd        0.577350\n",
              "T_prec        0.707107\n",
              "S_prec        0.577350\n",
              "R_Depth       0.972178\n",
              "R_TEMP       -0.838742\n",
              "R_POTEMP     -0.838742\n",
              "R_SALINITY   -0.897958\n",
              "R_SIGMA      -0.288675\n",
              "R_SVA         0.784092\n",
              "R_DYNHT       0.972272\n",
              "R_PRES        0.972178\n",
              "Name: Btl_Cnt, dtype: float64"
            ]
          },
          "metadata": {},
          "execution_count": 90
        }
      ]
    },
    {
      "cell_type": "code",
      "source": [
        "clmns_bottle = df_bottle.head().corr()['Btl_Cnt'].dropna().index.to_numpy()\n",
        "clmns_bottle"
      ],
      "metadata": {
        "colab": {
          "base_uri": "https://localhost:8080/"
        },
        "id": "JZwMD1pwwpK0",
        "outputId": "db70894c-8c0d-4959-b3f9-627cb1d8096c"
      },
      "execution_count": 16,
      "outputs": [
        {
          "output_type": "execute_result",
          "data": {
            "text/plain": [
              "array(['Btl_Cnt', 'Depthm', 'T_degC', 'Salnty', 'STheta', 'RecInd',\n",
              "       'T_prec', 'S_prec', 'R_Depth', 'R_TEMP', 'R_POTEMP', 'R_SALINITY',\n",
              "       'R_SIGMA', 'R_SVA', 'R_DYNHT', 'R_PRES'], dtype=object)"
            ]
          },
          "metadata": {},
          "execution_count": 16
        }
      ]
    },
    {
      "cell_type": "code",
      "source": [
        "\"\"\" LinearRegression on kaglle datasets\"\"\"\n",
        "\"\"\" dropna() - use for Series to drop Nan values, fillna(0) -  Series/DF method that convert NaN to 0 \"\"\"\n",
        "\n",
        "\n",
        "y_cast = df_cast['Cruz_Sta'].fillna(0).to_numpy()\n",
        "x_cast = df_cast[clmns_cast].fillna(0).to_numpy()\n",
        "\n",
        "y_bottle = df_bottle['Btl_Cnt'].fillna(0).to_numpy()\n",
        "x_bottle = df_bottle[clmns_bottle].fillna(0).to_numpy()\n",
        "\n",
        "\n",
        "linregr_cast = LinearRegression().fit(x_cast,y_cast)\n",
        "linregr_bottle= LinearRegression().fit(x_bottle,y_bottle)\n",
        "\n",
        "linregr_cast.coef_, linregr_cast.intercept_\n",
        "\n",
        "linregr_bottle.coef_, linregr_bottle.intercept_\n",
        "\n",
        "\n",
        "Xc_train,Xc_test, yc_train, yc_test = train_test_split(x_cast,y_cast, test_size = 0.2, random_state = 42)\n",
        "Xb_train,Xb_test, yb_train, yb_test = train_test_split(x_bottle,y_bottle, test_size = 0.2, random_state = 42)\n",
        "\n",
        "\n",
        "#Xc_norm = normalize(Xc_train)\n",
        "#yc_norm = normalize(yc_train.reshape(-1,1),axis = 0)\n",
        "lrc = LinearRegression().fit(Xc_train,yc_train)\n",
        "lrb = LinearRegression().fit(Xb_train,yb_train)\n",
        "\n",
        "yc_predict = lrc.predict(Xc_test)\n",
        "yb_predict = lrb.predict(Xb_test)\n",
        "\n",
        "# Mean squred error\n",
        "\n",
        "msee(yc_test,yc_predict),msee(yb_test,yb_predict)\n",
        "\n"
      ],
      "metadata": {
        "colab": {
          "base_uri": "https://localhost:8080/"
        },
        "id": "9CAdlRgow9sb",
        "outputId": "f2d6d395-2d0d-46d6-8c6b-7e9bd9f9cbc5"
      },
      "execution_count": 218,
      "outputs": [
        {
          "output_type": "execute_result",
          "data": {
            "text/plain": [
              "(0.00152587890625, 5.625608388758085e-21)"
            ]
          },
          "metadata": {},
          "execution_count": 218
        }
      ]
    },
    {
      "cell_type": "code",
      "source": [],
      "metadata": {
        "id": "tEHK569usksJ"
      },
      "execution_count": null,
      "outputs": []
    }
  ]
}